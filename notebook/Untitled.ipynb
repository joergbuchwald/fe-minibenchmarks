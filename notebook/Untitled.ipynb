{
 "cells": [
  {
   "cell_type": "markdown",
   "id": "d99166b6",
   "metadata": {},
   "source": [
    "## TRM Phase equilibrium\n",
    "\n",
    "### Vapour density\n",
    "\n",
    "The water vapour density is given by\n",
    "$$\\rho_v = h\\, \\rho_\\mathrm{vap}^\\mathrm{s}$$\n",
    "\n",
    "where $h$ is the relative humidity according to\n",
    "   $$h=\\exp\\left({\\frac{p_\\mathrm{LR}M_\\mathrm{W}}{\\rho_\\mathrm{LR}RT}}\\right)$$\n",
    "   \n",
    "   \n",
    "with $R=8.3144621$ and $M_\\mathrm{W}=0.018016\\,\\text{kg}\\,\\text{mol}^{-1}$.\n",
    "\n",
    "$\\rho_\\mathrm{vap}^\\mathrm{s}$ is the saturated vapour density given by\n",
    "$$\\rho_\\mathrm{vap}^\\mathrm{s}=10^{-3}\\, \\exp({19.819-4975.9/T})$$.\n",
    "\n",
    "### Vapour pressure\n",
    "\n",
    "Vapour pressure is obtained from vapour density, pressure and temperature according th the ideal gas law:\n",
    "\n",
    "$$p_\\mathrm{vap}^\\mathrm{s}=\\frac{\\rho_\\mathrm{vap}^\\mathrm{s}RT}{M_\\mathrm{W}}$$\n"
   ]
  },
  {
   "cell_type": "code",
   "execution_count": 18,
   "id": "a2d8bae1",
   "metadata": {},
   "outputs": [],
   "source": [
    "import numpy as np\n",
    "\n",
    "def saturation_vapour_density_TRM(T):\n",
    "    return 1.e-3*np.exp(19.819-4975.9/T)\n",
    "\n",
    "\n",
    "def saturation_vapour_pressure_TRM(T):\n",
    "    R = 8.3144621\n",
    "    M = 0.018016\n",
    "    return saturation_vapour_density_TRM(T)*R*T/M"
   ]
  },
  {
   "cell_type": "code",
   "execution_count": 29,
   "id": "c30ff42c",
   "metadata": {},
   "outputs": [
    {
     "data": {
      "text/plain": [
       "1.0794450752878653"
      ]
     },
     "execution_count": 29,
     "metadata": {},
     "output_type": "execute_result"
    }
   ],
   "source": [
    "\n",
    "#𝐿𝑤(𝑇)=2.501⋅106−2369.2(𝑇−273.15),[J/kg].\n",
    "\n",
    "T=300\n",
    "L=2.501e6-2369.2*(T-273.15)\n"
   ]
  },
  {
   "cell_type": "code",
   "execution_count": 26,
   "id": "c0330554",
   "metadata": {},
   "outputs": [
    {
     "name": "stdout",
     "output_type": "stream",
     "text": [
      "280 1001.700508118968 0.007751827107832529\n",
      "290 1914.7478639027438 0.014306645333105519\n",
      "300 3509.347176635839 0.025347159352726408\n",
      "310 6192.029275259346 0.04328082418374263\n",
      "320 10555.155199620733 0.07147248139343221\n",
      "330 17436.90078261162 0.11449316781948327\n",
      "340 27992.21699032066 0.17839496559700585\n",
      "350 43774.73834660478 0.27100651390559993\n",
      "360 66829.22442744698 0.40224266692185423\n",
      "370 99793.74605298576 0.5844210047332943\n",
      "380 146010.4884467116 0.8325775043083178\n",
      "390 209643.75379840026 1.1647736453465543\n"
     ]
    }
   ],
   "source": [
    "for T in range(280,400,10):\n",
    "    print(T,saturation_vapour_pressure_TRM(T),saturation_vapour_density_TRM(T))"
   ]
  },
  {
   "cell_type": "markdown",
   "id": "5d10feba",
   "metadata": {},
   "source": [
    "## Phase Equilibrium TH2M\n",
    "\n"
   ]
  },
  {
   "cell_type": "code",
   "execution_count": 24,
   "id": "b05a6dc1",
   "metadata": {},
   "outputs": [],
   "source": [
    "def saturation_vapour_pressure_TH2M(T):\n",
    "    A = 10.1962\n",
    "    B = 1730.63\n",
    "    C = -39.727\n",
    "    return 10**(A-B/(C+T))\n",
    "\n",
    "def saturation_vapour_density_TH2M(T):\n",
    "    R = 8.3144621\n",
    "    M = 0.018016\n",
    "    return saturation_vapour_pressure_TH2M(T)*M/R/T"
   ]
  },
  {
   "cell_type": "code",
   "execution_count": 25,
   "id": "10f2bff7",
   "metadata": {},
   "outputs": [
    {
     "name": "stdout",
     "output_type": "stream",
     "text": [
      "280 984.9967829410565 0.007622562533654495\n",
      "290 1910.870016635345 0.014277670768591554\n",
      "300 3522.9990095434273 0.025445763214569782\n",
      "310 6207.742201258778 0.04339065383043226\n",
      "320 10505.071251781323 0.07113334625402748\n",
      "330 17144.424872490017 0.11257272944123073\n",
      "340 27081.83814709286 0.1725931027979991\n",
      "350 41536.9508616725 0.2571525193859476\n",
      "360 62028.48925367176 0.37334721682454913\n",
      "370 90406.89930502044 0.5294489185585695\n",
      "380 128882.96751968533 0.7349133653816381\n",
      "390 180051.4750924911 1.0003599401066703\n"
     ]
    }
   ],
   "source": [
    "for T in range(280,400,10):\n",
    "    print(T,saturation_vapour_pressure_TH2M(T),saturation_vapour_density_TH2M(T))"
   ]
  },
  {
   "cell_type": "code",
   "execution_count": null,
   "id": "f11a6fa7",
   "metadata": {},
   "outputs": [],
   "source": []
  }
 ],
 "metadata": {
  "kernelspec": {
   "display_name": "Python 3",
   "language": "python",
   "name": "python3"
  },
  "language_info": {
   "codemirror_mode": {
    "name": "ipython",
    "version": 3
   },
   "file_extension": ".py",
   "mimetype": "text/x-python",
   "name": "python",
   "nbconvert_exporter": "python",
   "pygments_lexer": "ipython3",
   "version": "3.8.10"
  }
 },
 "nbformat": 4,
 "nbformat_minor": 5
}
